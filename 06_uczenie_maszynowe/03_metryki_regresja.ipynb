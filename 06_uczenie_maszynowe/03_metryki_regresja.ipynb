{
  "nbformat": 4,
  "nbformat_minor": 0,
  "metadata": {
    "colab": {
      "name": "03_metryki_regresja.ipynb",
      "provenance": [],
      "authorship_tag": "ABX9TyMwR6GlOmfnxzo8CxXTmXsc",
      "include_colab_link": true
    },
    "kernelspec": {
      "name": "python3",
      "display_name": "Python 3"
    },
    "language_info": {
      "name": "python"
    }
  },
  "cells": [
    {
      "cell_type": "markdown",
      "metadata": {
        "id": "view-in-github",
        "colab_type": "text"
      },
      "source": [
        "<a href=\"https://colab.research.google.com/github/mateuszklimczyk97/data-science-bootcamp/blob/main/06_uczenie_maszynowe/03_metryki_regresja.ipynb\" target=\"_parent\"><img src=\"https://colab.research.google.com/assets/colab-badge.svg\" alt=\"Open In Colab\"/></a>"
      ]
    },
    {
      "cell_type": "markdown",
      "source": [
        "### Metryki - Problem Regresji"
      ],
      "metadata": {
        "id": "BT2s6zMAUNKE"
      }
    },
    {
      "cell_type": "markdown",
      "source": [
        "#### Import bibliotek"
      ],
      "metadata": {
        "id": "viSFc6HyUSly"
      }
    },
    {
      "cell_type": "code",
      "source": [
        "import numpy as np\n",
        "import pandas as pd\n",
        "import plotly.express as px\n",
        "import plotly.graph_objects as go"
      ],
      "metadata": {
        "id": "F8t1pkS4UPe4"
      },
      "execution_count": 1,
      "outputs": []
    },
    {
      "cell_type": "code",
      "source": [
        "y_true = 100 + 20 * np.random.randn(50)\n",
        "y_true"
      ],
      "metadata": {
        "colab": {
          "base_uri": "https://localhost:8080/"
        },
        "id": "S-ox2CKAUd6c",
        "outputId": "c10cc224-50ea-4aca-df77-8f62ec9cb661"
      },
      "execution_count": 4,
      "outputs": [
        {
          "output_type": "execute_result",
          "data": {
            "text/plain": [
              "array([133.20029788,  98.80180663, 101.7239481 , 137.1780276 ,\n",
              "        98.0242489 ,  98.49013056, 128.64178694, 116.33698485,\n",
              "        78.96784509, 105.75911245,  98.81545995, 104.3286974 ,\n",
              "       113.47639642, 105.6451862 , 104.08993775,  87.72699594,\n",
              "        82.2917206 , 128.9876916 , 120.62772891, 108.83101212,\n",
              "       106.52543166,  92.35396947,  77.89820958,  90.62636299,\n",
              "       108.17188649, 105.03906369, 102.94042449, 117.77287328,\n",
              "       104.79860395,  89.22976369,  73.04772657, 122.08520848,\n",
              "        86.64114338, 129.47004578,  86.26913423, 100.86211919,\n",
              "       130.73528897, 104.9000653 , 134.44599221,  55.3112528 ,\n",
              "       105.70779293, 136.38395644,  90.90872639, 108.39422737,\n",
              "        66.7755473 , 114.5632457 ,  95.26054065, 131.07869041,\n",
              "       103.83563135,  74.59833471])"
            ]
          },
          "metadata": {},
          "execution_count": 4
        }
      ]
    },
    {
      "cell_type": "code",
      "source": [
        "y_pred = y_true + 10 * np.random.randn(50)\n",
        "y_pred"
      ],
      "metadata": {
        "colab": {
          "base_uri": "https://localhost:8080/"
        },
        "id": "dWc9O9FPUn-d",
        "outputId": "7cf3c167-5e67-45fe-c70b-8ced7eed8cc8"
      },
      "execution_count": 5,
      "outputs": [
        {
          "output_type": "execute_result",
          "data": {
            "text/plain": [
              "array([137.33057132, 108.0640548 ,  97.72084651, 140.88626567,\n",
              "        89.85130835, 112.7056069 , 132.4895521 , 119.22980966,\n",
              "        84.12046203,  91.27533839,  87.30069937,  86.3184437 ,\n",
              "       124.52387052, 115.76883466, 101.07817053,  85.68201502,\n",
              "        84.90588263, 115.30112393, 121.8536259 , 111.63853158,\n",
              "       109.52193535,  93.99377984,  68.89807605,  81.69605426,\n",
              "       107.35845532,  94.24508866,  98.69617927, 114.4903871 ,\n",
              "       100.10248241,  95.85965305,  53.01212897, 113.13150087,\n",
              "        90.77797293, 125.20026812,  75.79236533, 101.94852019,\n",
              "       123.60870924,  87.20653572, 133.93036092,  65.15034101,\n",
              "       102.26785146, 137.34021506,  96.05324422,  98.16234587,\n",
              "        57.0275763 , 127.20901877,  88.12258502, 112.37473308,\n",
              "       122.31056029,  95.83079226])"
            ]
          },
          "metadata": {},
          "execution_count": 5
        }
      ]
    },
    {
      "cell_type": "code",
      "source": [
        "results = pd.DataFrame({'y_true': y_true, 'y_pred':y_pred})\n",
        "results.head()"
      ],
      "metadata": {
        "colab": {
          "base_uri": "https://localhost:8080/",
          "height": 206
        },
        "id": "3UExiH8sU3CH",
        "outputId": "360e2957-ceef-4a1b-dbdc-0d030f2d0514"
      },
      "execution_count": 6,
      "outputs": [
        {
          "output_type": "execute_result",
          "data": {
            "text/plain": [
              "       y_true      y_pred\n",
              "0  133.200298  137.330571\n",
              "1   98.801807  108.064055\n",
              "2  101.723948   97.720847\n",
              "3  137.178028  140.886266\n",
              "4   98.024249   89.851308"
            ],
            "text/html": [
              "\n",
              "  <div id=\"df-82448dcb-c830-498d-9c5b-16d9ef30578d\">\n",
              "    <div class=\"colab-df-container\">\n",
              "      <div>\n",
              "<style scoped>\n",
              "    .dataframe tbody tr th:only-of-type {\n",
              "        vertical-align: middle;\n",
              "    }\n",
              "\n",
              "    .dataframe tbody tr th {\n",
              "        vertical-align: top;\n",
              "    }\n",
              "\n",
              "    .dataframe thead th {\n",
              "        text-align: right;\n",
              "    }\n",
              "</style>\n",
              "<table border=\"1\" class=\"dataframe\">\n",
              "  <thead>\n",
              "    <tr style=\"text-align: right;\">\n",
              "      <th></th>\n",
              "      <th>y_true</th>\n",
              "      <th>y_pred</th>\n",
              "    </tr>\n",
              "  </thead>\n",
              "  <tbody>\n",
              "    <tr>\n",
              "      <th>0</th>\n",
              "      <td>133.200298</td>\n",
              "      <td>137.330571</td>\n",
              "    </tr>\n",
              "    <tr>\n",
              "      <th>1</th>\n",
              "      <td>98.801807</td>\n",
              "      <td>108.064055</td>\n",
              "    </tr>\n",
              "    <tr>\n",
              "      <th>2</th>\n",
              "      <td>101.723948</td>\n",
              "      <td>97.720847</td>\n",
              "    </tr>\n",
              "    <tr>\n",
              "      <th>3</th>\n",
              "      <td>137.178028</td>\n",
              "      <td>140.886266</td>\n",
              "    </tr>\n",
              "    <tr>\n",
              "      <th>4</th>\n",
              "      <td>98.024249</td>\n",
              "      <td>89.851308</td>\n",
              "    </tr>\n",
              "  </tbody>\n",
              "</table>\n",
              "</div>\n",
              "      <button class=\"colab-df-convert\" onclick=\"convertToInteractive('df-82448dcb-c830-498d-9c5b-16d9ef30578d')\"\n",
              "              title=\"Convert this dataframe to an interactive table.\"\n",
              "              style=\"display:none;\">\n",
              "        \n",
              "  <svg xmlns=\"http://www.w3.org/2000/svg\" height=\"24px\"viewBox=\"0 0 24 24\"\n",
              "       width=\"24px\">\n",
              "    <path d=\"M0 0h24v24H0V0z\" fill=\"none\"/>\n",
              "    <path d=\"M18.56 5.44l.94 2.06.94-2.06 2.06-.94-2.06-.94-.94-2.06-.94 2.06-2.06.94zm-11 1L8.5 8.5l.94-2.06 2.06-.94-2.06-.94L8.5 2.5l-.94 2.06-2.06.94zm10 10l.94 2.06.94-2.06 2.06-.94-2.06-.94-.94-2.06-.94 2.06-2.06.94z\"/><path d=\"M17.41 7.96l-1.37-1.37c-.4-.4-.92-.59-1.43-.59-.52 0-1.04.2-1.43.59L10.3 9.45l-7.72 7.72c-.78.78-.78 2.05 0 2.83L4 21.41c.39.39.9.59 1.41.59.51 0 1.02-.2 1.41-.59l7.78-7.78 2.81-2.81c.8-.78.8-2.07 0-2.86zM5.41 20L4 18.59l7.72-7.72 1.47 1.35L5.41 20z\"/>\n",
              "  </svg>\n",
              "      </button>\n",
              "      \n",
              "  <style>\n",
              "    .colab-df-container {\n",
              "      display:flex;\n",
              "      flex-wrap:wrap;\n",
              "      gap: 12px;\n",
              "    }\n",
              "\n",
              "    .colab-df-convert {\n",
              "      background-color: #E8F0FE;\n",
              "      border: none;\n",
              "      border-radius: 50%;\n",
              "      cursor: pointer;\n",
              "      display: none;\n",
              "      fill: #1967D2;\n",
              "      height: 32px;\n",
              "      padding: 0 0 0 0;\n",
              "      width: 32px;\n",
              "    }\n",
              "\n",
              "    .colab-df-convert:hover {\n",
              "      background-color: #E2EBFA;\n",
              "      box-shadow: 0px 1px 2px rgba(60, 64, 67, 0.3), 0px 1px 3px 1px rgba(60, 64, 67, 0.15);\n",
              "      fill: #174EA6;\n",
              "    }\n",
              "\n",
              "    [theme=dark] .colab-df-convert {\n",
              "      background-color: #3B4455;\n",
              "      fill: #D2E3FC;\n",
              "    }\n",
              "\n",
              "    [theme=dark] .colab-df-convert:hover {\n",
              "      background-color: #434B5C;\n",
              "      box-shadow: 0px 1px 3px 1px rgba(0, 0, 0, 0.15);\n",
              "      filter: drop-shadow(0px 1px 2px rgba(0, 0, 0, 0.3));\n",
              "      fill: #FFFFFF;\n",
              "    }\n",
              "  </style>\n",
              "\n",
              "      <script>\n",
              "        const buttonEl =\n",
              "          document.querySelector('#df-82448dcb-c830-498d-9c5b-16d9ef30578d button.colab-df-convert');\n",
              "        buttonEl.style.display =\n",
              "          google.colab.kernel.accessAllowed ? 'block' : 'none';\n",
              "\n",
              "        async function convertToInteractive(key) {\n",
              "          const element = document.querySelector('#df-82448dcb-c830-498d-9c5b-16d9ef30578d');\n",
              "          const dataTable =\n",
              "            await google.colab.kernel.invokeFunction('convertToInteractive',\n",
              "                                                     [key], {});\n",
              "          if (!dataTable) return;\n",
              "\n",
              "          const docLinkHtml = 'Like what you see? Visit the ' +\n",
              "            '<a target=\"_blank\" href=https://colab.research.google.com/notebooks/data_table.ipynb>data table notebook</a>'\n",
              "            + ' to learn more about interactive tables.';\n",
              "          element.innerHTML = '';\n",
              "          dataTable['output_type'] = 'display_data';\n",
              "          await google.colab.output.renderOutput(dataTable, element);\n",
              "          const docLink = document.createElement('div');\n",
              "          docLink.innerHTML = docLinkHtml;\n",
              "          element.appendChild(docLink);\n",
              "        }\n",
              "      </script>\n",
              "    </div>\n",
              "  </div>\n",
              "  "
            ]
          },
          "metadata": {},
          "execution_count": 6
        }
      ]
    },
    {
      "cell_type": "code",
      "source": [
        "results.error = results.y_true - results.y_pred\n",
        "results.head()"
      ],
      "metadata": {
        "colab": {
          "base_uri": "https://localhost:8080/",
          "height": 206
        },
        "id": "YfAO5DdfVHRJ",
        "outputId": "ef437a9a-2fe2-4395-e4f8-1f0bbc75feb7"
      },
      "execution_count": 8,
      "outputs": [
        {
          "output_type": "execute_result",
          "data": {
            "text/plain": [
              "       y_true      y_pred     error\n",
              "0  133.200298  137.330571 -4.130273\n",
              "1   98.801807  108.064055 -9.262248\n",
              "2  101.723948   97.720847  4.003102\n",
              "3  137.178028  140.886266 -3.708238\n",
              "4   98.024249   89.851308  8.172941"
            ],
            "text/html": [
              "\n",
              "  <div id=\"df-3799f9d9-654d-48e4-9163-e1e83dc345e0\">\n",
              "    <div class=\"colab-df-container\">\n",
              "      <div>\n",
              "<style scoped>\n",
              "    .dataframe tbody tr th:only-of-type {\n",
              "        vertical-align: middle;\n",
              "    }\n",
              "\n",
              "    .dataframe tbody tr th {\n",
              "        vertical-align: top;\n",
              "    }\n",
              "\n",
              "    .dataframe thead th {\n",
              "        text-align: right;\n",
              "    }\n",
              "</style>\n",
              "<table border=\"1\" class=\"dataframe\">\n",
              "  <thead>\n",
              "    <tr style=\"text-align: right;\">\n",
              "      <th></th>\n",
              "      <th>y_true</th>\n",
              "      <th>y_pred</th>\n",
              "      <th>error</th>\n",
              "    </tr>\n",
              "  </thead>\n",
              "  <tbody>\n",
              "    <tr>\n",
              "      <th>0</th>\n",
              "      <td>133.200298</td>\n",
              "      <td>137.330571</td>\n",
              "      <td>-4.130273</td>\n",
              "    </tr>\n",
              "    <tr>\n",
              "      <th>1</th>\n",
              "      <td>98.801807</td>\n",
              "      <td>108.064055</td>\n",
              "      <td>-9.262248</td>\n",
              "    </tr>\n",
              "    <tr>\n",
              "      <th>2</th>\n",
              "      <td>101.723948</td>\n",
              "      <td>97.720847</td>\n",
              "      <td>4.003102</td>\n",
              "    </tr>\n",
              "    <tr>\n",
              "      <th>3</th>\n",
              "      <td>137.178028</td>\n",
              "      <td>140.886266</td>\n",
              "      <td>-3.708238</td>\n",
              "    </tr>\n",
              "    <tr>\n",
              "      <th>4</th>\n",
              "      <td>98.024249</td>\n",
              "      <td>89.851308</td>\n",
              "      <td>8.172941</td>\n",
              "    </tr>\n",
              "  </tbody>\n",
              "</table>\n",
              "</div>\n",
              "      <button class=\"colab-df-convert\" onclick=\"convertToInteractive('df-3799f9d9-654d-48e4-9163-e1e83dc345e0')\"\n",
              "              title=\"Convert this dataframe to an interactive table.\"\n",
              "              style=\"display:none;\">\n",
              "        \n",
              "  <svg xmlns=\"http://www.w3.org/2000/svg\" height=\"24px\"viewBox=\"0 0 24 24\"\n",
              "       width=\"24px\">\n",
              "    <path d=\"M0 0h24v24H0V0z\" fill=\"none\"/>\n",
              "    <path d=\"M18.56 5.44l.94 2.06.94-2.06 2.06-.94-2.06-.94-.94-2.06-.94 2.06-2.06.94zm-11 1L8.5 8.5l.94-2.06 2.06-.94-2.06-.94L8.5 2.5l-.94 2.06-2.06.94zm10 10l.94 2.06.94-2.06 2.06-.94-2.06-.94-.94-2.06-.94 2.06-2.06.94z\"/><path d=\"M17.41 7.96l-1.37-1.37c-.4-.4-.92-.59-1.43-.59-.52 0-1.04.2-1.43.59L10.3 9.45l-7.72 7.72c-.78.78-.78 2.05 0 2.83L4 21.41c.39.39.9.59 1.41.59.51 0 1.02-.2 1.41-.59l7.78-7.78 2.81-2.81c.8-.78.8-2.07 0-2.86zM5.41 20L4 18.59l7.72-7.72 1.47 1.35L5.41 20z\"/>\n",
              "  </svg>\n",
              "      </button>\n",
              "      \n",
              "  <style>\n",
              "    .colab-df-container {\n",
              "      display:flex;\n",
              "      flex-wrap:wrap;\n",
              "      gap: 12px;\n",
              "    }\n",
              "\n",
              "    .colab-df-convert {\n",
              "      background-color: #E8F0FE;\n",
              "      border: none;\n",
              "      border-radius: 50%;\n",
              "      cursor: pointer;\n",
              "      display: none;\n",
              "      fill: #1967D2;\n",
              "      height: 32px;\n",
              "      padding: 0 0 0 0;\n",
              "      width: 32px;\n",
              "    }\n",
              "\n",
              "    .colab-df-convert:hover {\n",
              "      background-color: #E2EBFA;\n",
              "      box-shadow: 0px 1px 2px rgba(60, 64, 67, 0.3), 0px 1px 3px 1px rgba(60, 64, 67, 0.15);\n",
              "      fill: #174EA6;\n",
              "    }\n",
              "\n",
              "    [theme=dark] .colab-df-convert {\n",
              "      background-color: #3B4455;\n",
              "      fill: #D2E3FC;\n",
              "    }\n",
              "\n",
              "    [theme=dark] .colab-df-convert:hover {\n",
              "      background-color: #434B5C;\n",
              "      box-shadow: 0px 1px 3px 1px rgba(0, 0, 0, 0.15);\n",
              "      filter: drop-shadow(0px 1px 2px rgba(0, 0, 0, 0.3));\n",
              "      fill: #FFFFFF;\n",
              "    }\n",
              "  </style>\n",
              "\n",
              "      <script>\n",
              "        const buttonEl =\n",
              "          document.querySelector('#df-3799f9d9-654d-48e4-9163-e1e83dc345e0 button.colab-df-convert');\n",
              "        buttonEl.style.display =\n",
              "          google.colab.kernel.accessAllowed ? 'block' : 'none';\n",
              "\n",
              "        async function convertToInteractive(key) {\n",
              "          const element = document.querySelector('#df-3799f9d9-654d-48e4-9163-e1e83dc345e0');\n",
              "          const dataTable =\n",
              "            await google.colab.kernel.invokeFunction('convertToInteractive',\n",
              "                                                     [key], {});\n",
              "          if (!dataTable) return;\n",
              "\n",
              "          const docLinkHtml = 'Like what you see? Visit the ' +\n",
              "            '<a target=\"_blank\" href=https://colab.research.google.com/notebooks/data_table.ipynb>data table notebook</a>'\n",
              "            + ' to learn more about interactive tables.';\n",
              "          element.innerHTML = '';\n",
              "          dataTable['output_type'] = 'display_data';\n",
              "          await google.colab.output.renderOutput(dataTable, element);\n",
              "          const docLink = document.createElement('div');\n",
              "          docLink.innerHTML = docLinkHtml;\n",
              "          element.appendChild(docLink);\n",
              "        }\n",
              "      </script>\n",
              "    </div>\n",
              "  </div>\n",
              "  "
            ]
          },
          "metadata": {},
          "execution_count": 8
        }
      ]
    },
    {
      "cell_type": "markdown",
      "source": [
        "### Interpretacja graficzna"
      ],
      "metadata": {
        "id": "Po1sQKAgVRjv"
      }
    },
    {
      "cell_type": "code",
      "source": [
        "def plot_regression_results(y_true, y_pred): \n",
        "    results = pd.DataFrame({'y_true': y_true, 'y_pred': y_pred})\n",
        "    min = results[['y_true', 'y_pred']].min().min()\n",
        "    max = results[['y_true', 'y_pred']].max().max()\n",
        "\n",
        "    fig = go.Figure(data=[go.Scatter(x=results['y_true'], y=results['y_pred'], mode='markers'),\n",
        "                    go.Scatter(x=[min, max], y=[min, max])],\n",
        "                    layout=go.Layout(showlegend=False, width=800, height=500,\n",
        "                                     xaxis_title='y_true', \n",
        "                                     yaxis_title='y_pred',\n",
        "                                     title='Wyniki regresji'))\n",
        "    fig.show()\n",
        "plot_regression_results(y_true, y_pred)"
      ],
      "metadata": {
        "colab": {
          "base_uri": "https://localhost:8080/",
          "height": 517
        },
        "id": "Efm5fNvbVQGK",
        "outputId": "ea9ed99b-826a-4d16-e614-053ae6f0adac"
      },
      "execution_count": 13,
      "outputs": [
        {
          "output_type": "display_data",
          "data": {
            "text/html": [
              "<html>\n",
              "<head><meta charset=\"utf-8\" /></head>\n",
              "<body>\n",
              "    <div>            <script src=\"https://cdnjs.cloudflare.com/ajax/libs/mathjax/2.7.5/MathJax.js?config=TeX-AMS-MML_SVG\"></script><script type=\"text/javascript\">if (window.MathJax) {MathJax.Hub.Config({SVG: {font: \"STIX-Web\"}});}</script>                <script type=\"text/javascript\">window.PlotlyConfig = {MathJaxConfig: 'local'};</script>\n",
              "        <script src=\"https://cdn.plot.ly/plotly-2.8.3.min.js\"></script>                <div id=\"43e9b9f1-19a8-47e5-ab95-8e547b8a1bd0\" class=\"plotly-graph-div\" style=\"height:500px; width:800px;\"></div>            <script type=\"text/javascript\">                                    window.PLOTLYENV=window.PLOTLYENV || {};                                    if (document.getElementById(\"43e9b9f1-19a8-47e5-ab95-8e547b8a1bd0\")) {                    Plotly.newPlot(                        \"43e9b9f1-19a8-47e5-ab95-8e547b8a1bd0\",                        [{\"mode\":\"markers\",\"x\":[133.20029787837188,98.80180663076055,101.72394809804783,137.1780275990294,98.02424889790778,98.49013055721744,128.64178694233854,116.33698484798435,78.96784508621599,105.75911244547639,98.81545995111213,104.32869739680214,113.47639642473328,105.64518619546034,104.0899377454978,87.72699594126584,82.29172060375657,128.98769159837673,120.62772891314378,108.83101211801723,106.52543165999717,92.35396947153257,77.89820958343867,90.62636298872046,108.17188648603188,105.03906369384569,102.9404244948183,117.77287328449492,104.79860395459659,89.22976369058327,73.04772656745565,122.0852084849123,86.6411433785735,129.47004578447164,86.26913422950891,100.86211919183344,130.73528896990956,104.90006530171658,134.4459922139406,55.311252796547265,105.70779293192876,136.38395644064468,90.90872638724014,108.39422736740183,66.7755472951462,114.56324570315886,95.26054064813951,131.07869041436842,103.83563134870147,74.59833471266457],\"y\":[137.3305713197332,108.06405479598683,97.72084651301235,140.88626567178392,89.85130835244564,112.7056069019009,132.48955209757565,119.22980966338066,84.12046203331344,91.27533838753095,87.300699365273,86.31844369651543,124.52387051790299,115.76883465718797,101.07817052583628,85.68201501823219,84.9058826336015,115.30112392584279,121.8536258951134,111.63853157978589,109.52193535267368,93.99377983571941,68.89807605304017,81.69605425895294,107.3584553151746,94.24508865592419,98.69617926866464,114.49038709718388,100.10248241447474,95.85965305045548,53.012128973295255,113.13150086868687,90.77797292777979,125.2002681219611,75.79236533469128,101.94852019216478,123.60870924395712,87.20653571817488,133.9303609162103,65.15034100534375,102.26785145594968,137.34021505556234,96.05324421513956,98.1623458663465,57.02757629749509,127.20901876788305,88.12258501567914,112.37473307798446,122.31056029063399,95.83079225874376],\"type\":\"scatter\"},{\"x\":[53.012128973295255,140.88626567178392],\"y\":[53.012128973295255,140.88626567178392],\"type\":\"scatter\"}],                        {\"height\":500,\"showlegend\":false,\"title\":{\"text\":\"Wyniki regresji\"},\"width\":800,\"xaxis\":{\"title\":{\"text\":\"y_true\"}},\"yaxis\":{\"title\":{\"text\":\"y_pred\"}},\"template\":{\"data\":{\"bar\":[{\"error_x\":{\"color\":\"#2a3f5f\"},\"error_y\":{\"color\":\"#2a3f5f\"},\"marker\":{\"line\":{\"color\":\"#E5ECF6\",\"width\":0.5},\"pattern\":{\"fillmode\":\"overlay\",\"size\":10,\"solidity\":0.2}},\"type\":\"bar\"}],\"barpolar\":[{\"marker\":{\"line\":{\"color\":\"#E5ECF6\",\"width\":0.5},\"pattern\":{\"fillmode\":\"overlay\",\"size\":10,\"solidity\":0.2}},\"type\":\"barpolar\"}],\"carpet\":[{\"aaxis\":{\"endlinecolor\":\"#2a3f5f\",\"gridcolor\":\"white\",\"linecolor\":\"white\",\"minorgridcolor\":\"white\",\"startlinecolor\":\"#2a3f5f\"},\"baxis\":{\"endlinecolor\":\"#2a3f5f\",\"gridcolor\":\"white\",\"linecolor\":\"white\",\"minorgridcolor\":\"white\",\"startlinecolor\":\"#2a3f5f\"},\"type\":\"carpet\"}],\"choropleth\":[{\"colorbar\":{\"outlinewidth\":0,\"ticks\":\"\"},\"type\":\"choropleth\"}],\"contour\":[{\"colorbar\":{\"outlinewidth\":0,\"ticks\":\"\"},\"colorscale\":[[0.0,\"#0d0887\"],[0.1111111111111111,\"#46039f\"],[0.2222222222222222,\"#7201a8\"],[0.3333333333333333,\"#9c179e\"],[0.4444444444444444,\"#bd3786\"],[0.5555555555555556,\"#d8576b\"],[0.6666666666666666,\"#ed7953\"],[0.7777777777777778,\"#fb9f3a\"],[0.8888888888888888,\"#fdca26\"],[1.0,\"#f0f921\"]],\"type\":\"contour\"}],\"contourcarpet\":[{\"colorbar\":{\"outlinewidth\":0,\"ticks\":\"\"},\"type\":\"contourcarpet\"}],\"heatmap\":[{\"colorbar\":{\"outlinewidth\":0,\"ticks\":\"\"},\"colorscale\":[[0.0,\"#0d0887\"],[0.1111111111111111,\"#46039f\"],[0.2222222222222222,\"#7201a8\"],[0.3333333333333333,\"#9c179e\"],[0.4444444444444444,\"#bd3786\"],[0.5555555555555556,\"#d8576b\"],[0.6666666666666666,\"#ed7953\"],[0.7777777777777778,\"#fb9f3a\"],[0.8888888888888888,\"#fdca26\"],[1.0,\"#f0f921\"]],\"type\":\"heatmap\"}],\"heatmapgl\":[{\"colorbar\":{\"outlinewidth\":0,\"ticks\":\"\"},\"colorscale\":[[0.0,\"#0d0887\"],[0.1111111111111111,\"#46039f\"],[0.2222222222222222,\"#7201a8\"],[0.3333333333333333,\"#9c179e\"],[0.4444444444444444,\"#bd3786\"],[0.5555555555555556,\"#d8576b\"],[0.6666666666666666,\"#ed7953\"],[0.7777777777777778,\"#fb9f3a\"],[0.8888888888888888,\"#fdca26\"],[1.0,\"#f0f921\"]],\"type\":\"heatmapgl\"}],\"histogram\":[{\"marker\":{\"pattern\":{\"fillmode\":\"overlay\",\"size\":10,\"solidity\":0.2}},\"type\":\"histogram\"}],\"histogram2d\":[{\"colorbar\":{\"outlinewidth\":0,\"ticks\":\"\"},\"colorscale\":[[0.0,\"#0d0887\"],[0.1111111111111111,\"#46039f\"],[0.2222222222222222,\"#7201a8\"],[0.3333333333333333,\"#9c179e\"],[0.4444444444444444,\"#bd3786\"],[0.5555555555555556,\"#d8576b\"],[0.6666666666666666,\"#ed7953\"],[0.7777777777777778,\"#fb9f3a\"],[0.8888888888888888,\"#fdca26\"],[1.0,\"#f0f921\"]],\"type\":\"histogram2d\"}],\"histogram2dcontour\":[{\"colorbar\":{\"outlinewidth\":0,\"ticks\":\"\"},\"colorscale\":[[0.0,\"#0d0887\"],[0.1111111111111111,\"#46039f\"],[0.2222222222222222,\"#7201a8\"],[0.3333333333333333,\"#9c179e\"],[0.4444444444444444,\"#bd3786\"],[0.5555555555555556,\"#d8576b\"],[0.6666666666666666,\"#ed7953\"],[0.7777777777777778,\"#fb9f3a\"],[0.8888888888888888,\"#fdca26\"],[1.0,\"#f0f921\"]],\"type\":\"histogram2dcontour\"}],\"mesh3d\":[{\"colorbar\":{\"outlinewidth\":0,\"ticks\":\"\"},\"type\":\"mesh3d\"}],\"parcoords\":[{\"line\":{\"colorbar\":{\"outlinewidth\":0,\"ticks\":\"\"}},\"type\":\"parcoords\"}],\"pie\":[{\"automargin\":true,\"type\":\"pie\"}],\"scatter\":[{\"marker\":{\"colorbar\":{\"outlinewidth\":0,\"ticks\":\"\"}},\"type\":\"scatter\"}],\"scatter3d\":[{\"line\":{\"colorbar\":{\"outlinewidth\":0,\"ticks\":\"\"}},\"marker\":{\"colorbar\":{\"outlinewidth\":0,\"ticks\":\"\"}},\"type\":\"scatter3d\"}],\"scattercarpet\":[{\"marker\":{\"colorbar\":{\"outlinewidth\":0,\"ticks\":\"\"}},\"type\":\"scattercarpet\"}],\"scattergeo\":[{\"marker\":{\"colorbar\":{\"outlinewidth\":0,\"ticks\":\"\"}},\"type\":\"scattergeo\"}],\"scattergl\":[{\"marker\":{\"colorbar\":{\"outlinewidth\":0,\"ticks\":\"\"}},\"type\":\"scattergl\"}],\"scattermapbox\":[{\"marker\":{\"colorbar\":{\"outlinewidth\":0,\"ticks\":\"\"}},\"type\":\"scattermapbox\"}],\"scatterpolar\":[{\"marker\":{\"colorbar\":{\"outlinewidth\":0,\"ticks\":\"\"}},\"type\":\"scatterpolar\"}],\"scatterpolargl\":[{\"marker\":{\"colorbar\":{\"outlinewidth\":0,\"ticks\":\"\"}},\"type\":\"scatterpolargl\"}],\"scatterternary\":[{\"marker\":{\"colorbar\":{\"outlinewidth\":0,\"ticks\":\"\"}},\"type\":\"scatterternary\"}],\"surface\":[{\"colorbar\":{\"outlinewidth\":0,\"ticks\":\"\"},\"colorscale\":[[0.0,\"#0d0887\"],[0.1111111111111111,\"#46039f\"],[0.2222222222222222,\"#7201a8\"],[0.3333333333333333,\"#9c179e\"],[0.4444444444444444,\"#bd3786\"],[0.5555555555555556,\"#d8576b\"],[0.6666666666666666,\"#ed7953\"],[0.7777777777777778,\"#fb9f3a\"],[0.8888888888888888,\"#fdca26\"],[1.0,\"#f0f921\"]],\"type\":\"surface\"}],\"table\":[{\"cells\":{\"fill\":{\"color\":\"#EBF0F8\"},\"line\":{\"color\":\"white\"}},\"header\":{\"fill\":{\"color\":\"#C8D4E3\"},\"line\":{\"color\":\"white\"}},\"type\":\"table\"}]},\"layout\":{\"annotationdefaults\":{\"arrowcolor\":\"#2a3f5f\",\"arrowhead\":0,\"arrowwidth\":1},\"autotypenumbers\":\"strict\",\"coloraxis\":{\"colorbar\":{\"outlinewidth\":0,\"ticks\":\"\"}},\"colorscale\":{\"diverging\":[[0,\"#8e0152\"],[0.1,\"#c51b7d\"],[0.2,\"#de77ae\"],[0.3,\"#f1b6da\"],[0.4,\"#fde0ef\"],[0.5,\"#f7f7f7\"],[0.6,\"#e6f5d0\"],[0.7,\"#b8e186\"],[0.8,\"#7fbc41\"],[0.9,\"#4d9221\"],[1,\"#276419\"]],\"sequential\":[[0.0,\"#0d0887\"],[0.1111111111111111,\"#46039f\"],[0.2222222222222222,\"#7201a8\"],[0.3333333333333333,\"#9c179e\"],[0.4444444444444444,\"#bd3786\"],[0.5555555555555556,\"#d8576b\"],[0.6666666666666666,\"#ed7953\"],[0.7777777777777778,\"#fb9f3a\"],[0.8888888888888888,\"#fdca26\"],[1.0,\"#f0f921\"]],\"sequentialminus\":[[0.0,\"#0d0887\"],[0.1111111111111111,\"#46039f\"],[0.2222222222222222,\"#7201a8\"],[0.3333333333333333,\"#9c179e\"],[0.4444444444444444,\"#bd3786\"],[0.5555555555555556,\"#d8576b\"],[0.6666666666666666,\"#ed7953\"],[0.7777777777777778,\"#fb9f3a\"],[0.8888888888888888,\"#fdca26\"],[1.0,\"#f0f921\"]]},\"colorway\":[\"#636efa\",\"#EF553B\",\"#00cc96\",\"#ab63fa\",\"#FFA15A\",\"#19d3f3\",\"#FF6692\",\"#B6E880\",\"#FF97FF\",\"#FECB52\"],\"font\":{\"color\":\"#2a3f5f\"},\"geo\":{\"bgcolor\":\"white\",\"lakecolor\":\"white\",\"landcolor\":\"#E5ECF6\",\"showlakes\":true,\"showland\":true,\"subunitcolor\":\"white\"},\"hoverlabel\":{\"align\":\"left\"},\"hovermode\":\"closest\",\"mapbox\":{\"style\":\"light\"},\"paper_bgcolor\":\"white\",\"plot_bgcolor\":\"#E5ECF6\",\"polar\":{\"angularaxis\":{\"gridcolor\":\"white\",\"linecolor\":\"white\",\"ticks\":\"\"},\"bgcolor\":\"#E5ECF6\",\"radialaxis\":{\"gridcolor\":\"white\",\"linecolor\":\"white\",\"ticks\":\"\"}},\"scene\":{\"xaxis\":{\"backgroundcolor\":\"#E5ECF6\",\"gridcolor\":\"white\",\"gridwidth\":2,\"linecolor\":\"white\",\"showbackground\":true,\"ticks\":\"\",\"zerolinecolor\":\"white\"},\"yaxis\":{\"backgroundcolor\":\"#E5ECF6\",\"gridcolor\":\"white\",\"gridwidth\":2,\"linecolor\":\"white\",\"showbackground\":true,\"ticks\":\"\",\"zerolinecolor\":\"white\"},\"zaxis\":{\"backgroundcolor\":\"#E5ECF6\",\"gridcolor\":\"white\",\"gridwidth\":2,\"linecolor\":\"white\",\"showbackground\":true,\"ticks\":\"\",\"zerolinecolor\":\"white\"}},\"shapedefaults\":{\"line\":{\"color\":\"#2a3f5f\"}},\"ternary\":{\"aaxis\":{\"gridcolor\":\"white\",\"linecolor\":\"white\",\"ticks\":\"\"},\"baxis\":{\"gridcolor\":\"white\",\"linecolor\":\"white\",\"ticks\":\"\"},\"bgcolor\":\"#E5ECF6\",\"caxis\":{\"gridcolor\":\"white\",\"linecolor\":\"white\",\"ticks\":\"\"}},\"title\":{\"x\":0.05},\"xaxis\":{\"automargin\":true,\"gridcolor\":\"white\",\"linecolor\":\"white\",\"ticks\":\"\",\"title\":{\"standoff\":15},\"zerolinecolor\":\"white\",\"zerolinewidth\":2},\"yaxis\":{\"automargin\":true,\"gridcolor\":\"white\",\"linecolor\":\"white\",\"ticks\":\"\",\"title\":{\"standoff\":15},\"zerolinecolor\":\"white\",\"zerolinewidth\":2}}}},                        {\"responsive\": true}                    ).then(function(){\n",
              "                            \n",
              "var gd = document.getElementById('43e9b9f1-19a8-47e5-ab95-8e547b8a1bd0');\n",
              "var x = new MutationObserver(function (mutations, observer) {{\n",
              "        var display = window.getComputedStyle(gd).display;\n",
              "        if (!display || display === 'none') {{\n",
              "            console.log([gd, 'removed!']);\n",
              "            Plotly.purge(gd);\n",
              "            observer.disconnect();\n",
              "        }}\n",
              "}});\n",
              "\n",
              "// Listen for the removal of the full notebook cells\n",
              "var notebookContainer = gd.closest('#notebook-container');\n",
              "if (notebookContainer) {{\n",
              "    x.observe(notebookContainer, {childList: true});\n",
              "}}\n",
              "\n",
              "// Listen for the clearing of the current output cell\n",
              "var outputEl = gd.closest('.output');\n",
              "if (outputEl) {{\n",
              "    x.observe(outputEl, {childList: true});\n",
              "}}\n",
              "\n",
              "                        })                };                            </script>        </div>\n",
              "</body>\n",
              "</html>"
            ]
          },
          "metadata": {}
        }
      ]
    },
    {
      "cell_type": "code",
      "source": [
        "y_true = 100 + 20 * np.random.randn(1000)\n",
        "y_pred = y_true + 10 * np.random.randn(1000)\n",
        "results = pd.DataFrame({'y_true': y_true, 'y_pred': y_pred})\n",
        "results['error'] = results['y_true'] - results['y_pred']\n",
        "\n",
        "px.histogram(results, x='error', nbins=50, width=800)"
      ],
      "metadata": {
        "colab": {
          "base_uri": "https://localhost:8080/",
          "height": 542
        },
        "id": "-KpAtmt_WjU5",
        "outputId": "acdecbe9-5f6d-4360-9215-6ab33032d018"
      },
      "execution_count": 16,
      "outputs": [
        {
          "output_type": "display_data",
          "data": {
            "text/html": [
              "<html>\n",
              "<head><meta charset=\"utf-8\" /></head>\n",
              "<body>\n",
              "    <div>            <script src=\"https://cdnjs.cloudflare.com/ajax/libs/mathjax/2.7.5/MathJax.js?config=TeX-AMS-MML_SVG\"></script><script type=\"text/javascript\">if (window.MathJax) {MathJax.Hub.Config({SVG: {font: \"STIX-Web\"}});}</script>                <script type=\"text/javascript\">window.PlotlyConfig = {MathJaxConfig: 'local'};</script>\n",
              "        <script src=\"https://cdn.plot.ly/plotly-2.8.3.min.js\"></script>                <div id=\"340e09b4-5535-4799-9e71-6bc40598cb02\" class=\"plotly-graph-div\" style=\"height:525px; width:800px;\"></div>            <script type=\"text/javascript\">                                    window.PLOTLYENV=window.PLOTLYENV || {};                                    if (document.getElementById(\"340e09b4-5535-4799-9e71-6bc40598cb02\")) {                    Plotly.newPlot(                        \"340e09b4-5535-4799-9e71-6bc40598cb02\",                        [{\"alignmentgroup\":\"True\",\"bingroup\":\"x\",\"hovertemplate\":\"error=%{x}<br>count=%{y}<extra></extra>\",\"legendgroup\":\"\",\"marker\":{\"color\":\"#636efa\",\"pattern\":{\"shape\":\"\"}},\"name\":\"\",\"nbinsx\":50,\"offsetgroup\":\"\",\"orientation\":\"v\",\"showlegend\":false,\"x\":[-3.7797015635240996,1.8925868093032534,-5.061008201794962,9.238759147762977,5.615451074461177,-2.9164342258108036,-9.76181847475128,-8.069364533532152,-2.387085070745144,-4.068268165504023,-15.4925988540151,-7.356221165486076,-9.636897579047087,-18.402254646728977,-0.06225367150987893,-10.399540774527722,9.163428732807986,2.1078727313767303,-14.037080708914658,-6.924325490941456,-1.2823984799828025,4.628033934257502,-26.02960664671204,-7.364737241909097,-20.164592952533255,10.490696353669705,-4.250541026604694,7.042848854279029,8.654392123144618,-4.52450455180022,7.077790231648805,-1.4523151281186841,14.791199946841786,-8.948260832103458,-6.075416647880402,-0.7297682859962293,12.690978756841446,-5.40261820728476,7.073286196536557,-5.792584224722177,18.137787709765064,12.363744303547861,9.013771881486946,-8.11242762147451,-1.994723276794872,7.279385586437314,-5.672824670620798,4.122157403840745,-0.5008685388251877,-14.108940747873916,7.736514591630737,-2.4491587188756796,-0.2690775923044981,24.052397719799018,1.695672174357128,-3.189685236030485,-6.342682070861244,3.0539070018704564,7.419913323854587,21.791850317122993,-1.570144889511198,-4.70875297211127,2.3424633343380634,1.9999100916515573,-2.7287807416927876,-10.611896572399274,-8.068564607484177,0.693465683698733,10.86035009807155,2.2279972289206285,-0.9255542815459705,9.528570485293585,-15.305117108766822,0.6868678231116974,-8.533542536406607,-6.98381924229767,-18.004213189801902,12.269741116199711,9.15908035978056,1.941751855417749,-3.8166550061884266,12.36895400687844,-2.3542364099749165,-0.8673955663481507,13.972050430824169,11.496241831604706,1.0627747736371873,-0.41074545035550614,-2.9673820810900935,12.610996233833077,8.624876994650364,-9.30114375630302,-14.452752859471516,-3.215071307193483,11.959273318547488,6.3969576003629385,-20.53950415522253,6.299689130003699,1.8233058410170457,6.207761148660097,6.471915244472612,-2.8361962167570027,-0.6141535909120535,-4.144859280967722,-16.698058912166346,8.892665934985502,9.312760663737464,-15.551942686373778,-11.572731485670374,33.579932322515845,3.6643632084100233,19.839438626633594,-5.46284943616682,-20.99939710450866,0.5738432058833212,-17.26659741656232,-1.4030351478596543,-6.188727596360621,-3.7026546101037354,5.246817091448193,13.893612837721193,-12.494661148327495,-2.30330796699792,13.222629047910885,-0.46404725221414367,-4.27616587323277,4.73765893850981,-4.080939437766652,-7.17205106404537,12.94428039070138,0.3269837668925675,8.611426774263137,0.18575968321665925,-11.053286950024741,-15.423313068174863,-7.958901895866532,-4.183993467442804,-1.1542705333603323,-1.840765819351887,12.944989354695053,12.995288795219835,4.492382485239062,-2.0503581825445423,3.3510601710921293,1.648104757754112,-8.779241083835572,0.3157487776429946,-9.432320239712752,-7.415294354323805,-0.4353825010562531,-11.034616174249024,-16.96256559978913,2.2325797891206776,8.996163306442412,16.847010674916007,3.543096341809573,-3.977302388373573,-6.643352924764372,-8.553428701094475,26.72572287760252,-0.45099180127121485,-10.830712961111189,-2.1490559262566507,-4.23410178094079,-9.322541762949385,11.424838898201585,-13.315838411354179,-7.538738188937316,5.045998548713342,-17.99793913817453,-5.802923824154249,-4.1722069297372855,-1.5091397302362992,-8.920164226297501,5.709100731353331,-2.5813199933000988,-10.950475269857478,-2.226446801878609,6.109845402746743,31.320487408506708,6.292399415315273,-12.774644320550152,5.134204432011472,10.615584805468444,-16.966624463329268,4.863984870393622,10.528264245859702,-6.834458802742574,-12.713676222688207,-6.555422761982058,-14.525018239092915,-9.40293408254017,13.53272578007811,-1.9577937585028877,-12.87465728091344,-12.055039779006918,5.634063924590379,13.315952137525699,-5.983491912128514,-8.645978024844638,-0.5964434980509594,15.160219209059306,3.173978241408392,4.717775277308675,-0.038640625135599294,-12.639673743913391,4.258760845260284,0.7832074374814795,13.42941128850265,-22.17031369158846,-15.938889777572058,-7.3916407476874895,1.5000663019618514,7.354850618065015,10.024736473606453,6.72379280686755,0.2500177741805203,9.87452726139766,-6.875194462447126,-11.302255056032664,7.551007804366321,0.7638082534064239,3.4819030783002205,-0.26994538545490343,29.28482427833842,-1.2145958031278212,6.694064654020224,-2.8815965786983497,6.559567037547978,-11.48943349029031,-15.547642106348292,-4.019670779475732,-13.204291657995299,-15.80959389601793,-2.7465661109924753,4.149401998532056,-7.994784525733834,20.571537851820878,12.101560705581718,-1.5229954394067278,-9.162253216324714,-0.5038087931072823,6.828032784491114,-9.642361760203016,6.33814533765397,-1.1350650795268535,-13.644845966161313,12.438912354201207,-9.41449294363835,5.479020747506375,-1.423567498250577,-3.499377354730427,-2.646126997849734,-10.641094825028802,-0.10342901891473844,-13.617924645659258,4.9032742456432885,-10.455622240671232,-7.405954763141054,-20.658989217865376,5.13158072487191,-33.74719350232162,-0.4159238111206065,20.048753935338937,-0.032900131148252854,-1.8460470841618246,-12.953058936785084,-13.685720908577991,-1.7938525373491814,-15.556480119014381,3.2915544070454956,-2.205663396723665,-10.925995730023288,2.4610998687649612,9.402064871140453,-6.872518439209244,-8.673100661685424,-1.2801749906100213,-0.4896768679183765,6.442880462941048,15.605868526142515,-5.84070802115167,5.295468095550262,4.198064134189281,-15.685322057168747,10.701607836153102,5.540916156434662,-7.368770631427537,-1.4340442706127874,11.689482787864186,9.207419312732213,9.259019476805605,1.960979929118409,7.884110562739394,-6.824477246696631,-1.0145330724295292,-1.306837469073983,-8.52460483811302,-2.656772502582257,20.69493950913987,16.286614472471086,16.958291264090974,-7.347002901831729,-15.401727900978557,-12.020559993708162,-12.927915156049536,14.13232618751124,-15.529878442546263,3.704667526210102,7.680360616722176,2.2210489654202803,14.979463697631445,-5.385770083443816,16.92509145761536,7.750354966914202,4.93819164976388,-9.721044209394591,-6.709847655792984,14.142208479578983,2.6229142450151244,-5.740664195704653,-8.429486762502435,-3.347718603431474,-4.521598063336711,9.485906100227908,-17.6138603911604,8.148195162487553,14.307043950143992,16.2973308290388,12.13903558835419,0.2181614692635918,5.410965098971076,-4.317889268397522,14.898176223347775,1.2307481821955548,-3.127630966676307,0.22842097516327442,3.8469637339027116,13.525963139493932,-4.033280964336285,-0.7003394829411747,-7.479510380898887,9.23104578311613,0.013135884769766903,-12.930038392110305,6.717267297099781,-10.503808323608808,-4.363296847746611,-5.373898120338495,0.11887017727255511,-8.949735485084034,-11.83674933210294,-1.9648016987371761,-10.072747013758999,13.257287464450187,-22.20192157144217,9.89566491277207,1.1702224901197127,-2.7878404854348844,15.144400018234265,-6.401476173186026,-13.750496896682264,5.195606063960341,-10.273899391029488,14.068380229147905,-10.727520119929196,2.6256051399558373,0.4332901506120521,6.364231946839425,6.733162575564364,13.200945344399287,4.71408378508815,11.997468970264606,-18.556091236955396,-7.1310935747710005,8.717036780718544,14.645287045694445,0.8235564903586123,11.232835706090555,-18.18275766829234,3.975519745194987,-19.33501048784295,-7.374346806303436,-2.3094128949859254,-4.1378946237696965,11.702372017839537,5.819506558603891,-10.155279282450394,-18.116377657369533,11.451298781203207,16.916127564137298,-2.4447931077715594,11.935802588670171,-4.327002916164659,-21.36865531908971,-4.169891941818449,14.49774939537788,-2.179732238335305,-6.57467649690463,-7.074777834413851,4.763765446287437,7.566258925539444,0.9732218352993698,0.12975970471711662,3.203271965903923,-21.668091174301225,-2.1181888477058948,-14.522630157432047,-3.926177862551114,-17.68640721674832,-6.400737321638488,-10.991305843476809,15.184576663936248,1.512035050011633,-0.36554513700751556,-20.360319548561435,-3.718353089952828,4.742750208286381,3.172420128377979,-6.622887208723512,-12.382621716811741,5.1501065314478325,11.280258267645706,-3.0007038271140374,-8.028284270344045,-1.7080600697842812,-1.9060322948618307,-1.1231861049622722,2.511485595750557,0.8125059921072761,16.177317950473565,-5.816279605915156,8.045346805254852,-2.6561866067015956,4.987075168952259,17.97546999146647,3.6207027234346327,0.8960208812985115,11.908896209050909,11.907826875248645,-16.54844178146103,-1.3230800887822625,0.6625180874847558,-20.855197669370398,-19.688755160329393,7.847034037990269,8.065804184329807,-13.147214786140921,-0.6037410202785622,-23.28272165902969,-5.950620190778324,-8.004505118893832,-8.001500231862991,-1.5856629836849692,-0.14269335394445193,5.349820353727523,10.229264190941656,4.347132122518445,-5.238240849032849,-9.581609006533483,2.484616897418448,23.710537163601735,-8.142892148303034,12.059972402339838,13.028679772960231,22.801411183839406,7.554132420615275,-0.8368409216843702,-0.8431030757456881,8.25122366321304,28.93659425566699,3.0624808764200537,7.011829580320104,0.3300479958720217,21.860362959927883,19.744840182214844,0.06730815461799011,-8.150180856793838,10.217822836832127,5.446064323861307,2.5793627507452044,12.4866765171966,9.208649095573264,-11.203509986739846,6.862696012821644,5.878903932775174,-7.0946532944957,4.000471319686895,-6.640572089111984,4.959690743278131,-5.211609500824508,-27.61624014133477,-11.780140187417473,-3.179614832584207,5.016677051884287,3.7917864597204556,-9.87289423764041,-5.849462764736629,-10.192135778092393,-6.995781925965758,7.5894303403757135,3.077771429260835,-22.182701372738265,-9.335025751281322,-16.303760143373594,-4.577958048979497,-17.87257092247006,-22.89036187392182,-1.2911035594957667,-13.565619862845452,2.929243838497783,-3.932411451775323,8.592954506827994,0.024138316201273824,-8.618311140939454,2.507947964732196,4.247343607773033,-4.4074939167547456,11.216171965553514,-2.192916782712544,-24.0501155768998,11.849002613238582,16.29221009849084,6.454594019092696,1.5919020655494052,-4.202245543847852,-17.160322403054067,-1.0786515106724295,2.406845822317905,-9.139082918564156,4.467256088754624,-3.3563570770266153,-1.395419643440107,-1.454628276557429,-11.35474177088713,-14.225899691933009,-12.497534075829932,5.098514860490738,3.848175262822153,-13.774794106602968,1.631955341771814,4.087749135918116,6.695802639458563,-1.1201024501484937,3.0000800865500565,-9.420423449181584,9.19869462367187,22.198244479957424,3.102774969364134,-7.76617620090488,-1.2094063142049976,-1.7685186550097853,9.236676911872323,-1.0105551235456716,20.321830328284037,-2.090251508602563,9.954846016170777,-10.298013841450938,-1.3570753659953425,-8.647092320140644,1.989779265364163,7.670264624373715,-0.5557328590173682,-3.1583623703526342,6.891553919816971,-3.8573910901199326,-23.984712282574407,31.311107909078174,-5.500115815932233,-10.585832845801036,14.324511601846154,-18.334540018488667,-8.25866602877528,21.996521880617095,-8.47013023160872,9.705333448057246,-21.375141730744815,-3.439942743624556,9.180802622080975,15.471800586520885,-6.932050699288041,0.4073006282551006,-16.059555822906148,15.658972475789028,-1.7596140503760296,14.406049686107508,-0.003158137408988182,-18.12693125667186,-11.436820471520662,11.65616817921969,2.3812930947480595,-12.317311645708045,12.845805713528122,-2.8978741680533773,-11.400611224055211,9.515194788029504,12.102714195442744,9.778603154257553,20.384955944520755,1.9337682189096626,-2.56234591760267,3.4011368921782434,10.175538018428,13.19027222157979,-3.119810114983494,-12.04797747082803,1.5240790683345296,-1.2190964487097204,-4.356961635248155,3.6920409990272702,-23.193779914275936,2.403796732773955,6.495750403592524,-3.6231401764604385,-3.5534302809494562,-9.376783843652433,-9.30970002696965,4.219044683803119,-15.461263697361915,11.704286660397472,6.78504742630777,1.2156329229985374,6.038189803376213,5.812284788071082,13.28702546167429,3.1014431925265455,-6.600009832542,15.389638981461161,6.59956908580493,-6.116884065620781,-20.138407387378663,-6.862025349043336,-2.5561871375042955,-12.34852507447647,7.853317713671757,-1.4218430723748554,6.622277866707236,-2.3307286161622756,-17.10153147772209,-11.242150977680467,0.21869384261977132,-19.562875949974398,-4.8543162851639465,7.4141244378542694,2.0540905031222536,-1.2279847381530828,-4.680281699002222,15.61261815667335,-8.244464604617761,-16.270006053308236,15.109600807380446,-9.352892466001506,4.813771852011882,-23.06632717154315,0.8029482546056386,-5.7249652982914085,-4.3943886080861745,18.035805680634482,18.957194899933043,14.574433093217863,-1.8006442512974274,-3.0612587107673477,-0.18182566980112824,-9.531005024703319,-5.9343903992011064,-0.5248839562673879,4.526639601606689,6.603288229002288,-1.162337643541278,-21.516368452688283,-22.11261687637446,0.8835510631356129,-16.595128082703468,-5.904891431211823,3.652959909667672,4.476460675998624,-15.294978852692353,-6.121362015868954,-8.244388288094598,1.970862942535632,-23.311751874381827,-1.4224576817494494,8.099326608498401,-9.565550997463362,15.206815290047317,-0.6107872372622865,0.3362100158445003,-0.9525553245063207,11.184795517937488,5.806531894125044,9.316595122327072,-4.970548168310728,-6.841027725469047,9.349510495549708,6.53274872385478,-14.883139195617389,-2.215390271269598,0.6035282085700544,14.84125109235977,2.100280477311884,2.3149979194078867,-2.3169061907313164,-21.44896905554387,-15.7137833094379,-12.443411251172975,-9.983692384182078,-5.744818125153088,14.551125602711224,-11.555028867462454,11.908173326500986,9.690245222004393,-3.6650954266093407,-22.58729939620929,3.670285967843,0.037070438819270635,-5.991357087867172,-2.2326191138095908,14.609816392516123,12.712009356404764,-3.1808651762377025,-15.588825397470956,-23.40028433262917,13.04931410374516,5.929080001131098,10.97612305307652,-14.330047118429107,12.27682436863644,6.390316908342896,7.067359016331395,-1.0650819654860726,6.435738983346326,-11.069014318311957,9.242056652939183,2.2303402335097076,6.093422960723146,12.324757844878974,-1.6866107228382248,4.683326239808906,-4.268562268490626,2.7576809602838637,-12.719154330809928,3.185177287960826,13.209549014167976,9.798522335499001,4.665040438962876,7.624479679720409,-4.595301777186066,7.253121685847397,11.65715736172102,-5.247909960208148,17.640063637989783,7.838452202515825,5.184839955678001,15.680063199572594,-4.124900528545169,9.255731695901545,4.834596931754589,-4.953640178370648,-19.69355188611884,2.3517707959646827,13.238333898395581,-6.416550717330125,3.0951665733489193,6.372968376781444,13.6278235053842,9.574936653353404,17.134930491373368,2.0822017105311375,-15.889895698997478,-4.426001849980423,-2.159454679994994,19.210658382953667,6.0441984799778155,9.609900278354772,0.8648805556723005,-21.15669081329081,2.9078668641913623,-3.6611174516145724,-10.288844756410413,2.003983453942567,-8.479360373432058,-16.428722361299563,-2.9593265222502225,0.035838825053133405,2.303869913500762,-6.092525758769327,9.911427165429401,-3.737294547762488,2.2401289368193886,8.042028525980683,-13.416485255863165,5.180228730681776,-11.198806762373323,-1.4576556159949234,5.869637248241318,5.3728722614590225,0.5245204416825402,-20.274669988567112,-12.154213948151408,6.2818415114130275,-6.3403864769147305,8.374781063552248,-0.24374663551009235,11.292153310767574,-2.021204489373858,-11.549165862447978,-17.992054404634146,-1.9653111380371655,-3.802712370347251,8.879487318595409,13.143417428949164,-5.615841353125049,-1.7124594693659958,20.850295245802428,6.223284762184477,9.722625038218638,-1.4878871862964331,-17.569933401721002,-3.2458049576204218,18.545631894850658,8.943318190680387,-3.3040435824199648,5.787384947257223,0.7542269662730376,-1.9456834616115657,-13.694527279877292,0.6277525126057242,19.810370172171446,-7.821304626284132,5.173356891715969,0.5708823025251206,-7.0572072734260445,25.024693082914865,6.183756798005376,-6.383934334305806,13.21264698241498,-6.022443693150521,-14.342576879985401,21.617832132846132,-11.648089733208366,9.325786929035488,8.756511874488382,5.867027813064226,6.228195129917893,10.526894198222706,2.4432657198745744,17.21740580109492,-22.69007932453148,10.638916348743365,6.738082533194358,-7.7122136116535955,-8.784599057668217,-19.048893276145066,-5.755672064360482,2.8096763591763363,7.234909290626092,7.470277600436873,-20.689648943411328,-10.083619546727228,-4.509553976963389,0.2690095087429114,6.948516030931842,11.40720094081658,0.11106892789169365,-12.606285660319244,2.210365114938554,0.3067157944990129,3.39210399813399,5.7547875487378235,-6.31856312304879,-0.6293457745189812,-7.863722695801258,8.02289975933634,-1.8610192122743143,-11.874116938111086,13.375387850964387,-4.6604177394686985,12.166770397070962,-8.710439225537087,6.9578365082714555,4.034102424040924,1.708906743265814,8.136330946506789,4.355362888113774,6.829266765897771,8.787097374092959,7.674440892612239,8.720098753800329,-3.542380424880207,4.141091948724039,14.21734496173616,-17.432982154563078,-3.251652497875341,-4.637481870245509,3.462149855863373,-5.095740993972797,17.352410968310295,-2.6001971058059183,11.410144291293562,-12.035931792907903,-3.9398675886998973,-0.41003499901894713,4.76745209407305,-5.690284752306269,-9.148166660357646,-9.397711087314406,-5.667979488450854,4.430095367532701,16.630575338168356,-0.45129793387525297,8.430163582273096,11.170033831699861,18.399456371521595,-16.683998048575646,12.184950610164421,5.600612864183745,0.3043948501832858,-13.327567595716175,13.659584840254226,9.185888689148186,10.410887919076359,-0.6311889387924481,-4.245094824292579,8.727300553431718,5.403293996890227,7.677491991654293,13.826176855489521,-4.03172878503328,17.156513306631652,6.310436996073804,17.769688445823107,-8.534888582167994,-6.023869703230929,-18.45977611870302,12.577854129377542,4.548764779446657,4.13221805575391,2.1517165336138504,-25.628997176143542,11.157557400790694,-5.243178782413523,-10.635556909541563,-4.604942418274064,-10.281985238834764,10.241030579198195,-7.522984316888582,-3.720787277429679,18.658504208672028,5.962057137664999,-1.1202708691272534,18.75192932842802,-10.9221880842898,9.538114682760366,19.138718709503976,-5.817335727329905,10.79019178456467,7.891980466725258,-12.513255821471589,-6.692402744157391,18.55011349099057,-5.318283292593776,5.201751192264709,0.7215221569212957,-0.693799967732744,-1.9816196665442618,6.304336323242225,3.6809140401531906,0.25505013377201635,-17.154542373896106,-2.493525488609336,-13.24840998319803,-16.605100535053253,5.568277780757342,0.016228397207058265,6.170079191546421,9.422801603568061,-18.793920584573925,12.514093681178537,2.46689459741998,8.336327590804885,10.784140081450317,6.695699470405479,-11.78403465899234,7.832526796812289,-0.8227081775955298,-3.3640741004680166,-11.465030260605232,0.5211355248541025,-16.218858378499576,5.690383381995375,-20.53944831455523,-0.5419386090824077,-2.901310894715806,-22.255907943012687,4.039958760178607,2.039768361715602,-5.736729447274783,2.8085678041406936,14.809240110419623,8.315992605171644],\"xaxis\":\"x\",\"yaxis\":\"y\",\"type\":\"histogram\"}],                        {\"template\":{\"data\":{\"bar\":[{\"error_x\":{\"color\":\"#2a3f5f\"},\"error_y\":{\"color\":\"#2a3f5f\"},\"marker\":{\"line\":{\"color\":\"#E5ECF6\",\"width\":0.5},\"pattern\":{\"fillmode\":\"overlay\",\"size\":10,\"solidity\":0.2}},\"type\":\"bar\"}],\"barpolar\":[{\"marker\":{\"line\":{\"color\":\"#E5ECF6\",\"width\":0.5},\"pattern\":{\"fillmode\":\"overlay\",\"size\":10,\"solidity\":0.2}},\"type\":\"barpolar\"}],\"carpet\":[{\"aaxis\":{\"endlinecolor\":\"#2a3f5f\",\"gridcolor\":\"white\",\"linecolor\":\"white\",\"minorgridcolor\":\"white\",\"startlinecolor\":\"#2a3f5f\"},\"baxis\":{\"endlinecolor\":\"#2a3f5f\",\"gridcolor\":\"white\",\"linecolor\":\"white\",\"minorgridcolor\":\"white\",\"startlinecolor\":\"#2a3f5f\"},\"type\":\"carpet\"}],\"choropleth\":[{\"colorbar\":{\"outlinewidth\":0,\"ticks\":\"\"},\"type\":\"choropleth\"}],\"contour\":[{\"colorbar\":{\"outlinewidth\":0,\"ticks\":\"\"},\"colorscale\":[[0.0,\"#0d0887\"],[0.1111111111111111,\"#46039f\"],[0.2222222222222222,\"#7201a8\"],[0.3333333333333333,\"#9c179e\"],[0.4444444444444444,\"#bd3786\"],[0.5555555555555556,\"#d8576b\"],[0.6666666666666666,\"#ed7953\"],[0.7777777777777778,\"#fb9f3a\"],[0.8888888888888888,\"#fdca26\"],[1.0,\"#f0f921\"]],\"type\":\"contour\"}],\"contourcarpet\":[{\"colorbar\":{\"outlinewidth\":0,\"ticks\":\"\"},\"type\":\"contourcarpet\"}],\"heatmap\":[{\"colorbar\":{\"outlinewidth\":0,\"ticks\":\"\"},\"colorscale\":[[0.0,\"#0d0887\"],[0.1111111111111111,\"#46039f\"],[0.2222222222222222,\"#7201a8\"],[0.3333333333333333,\"#9c179e\"],[0.4444444444444444,\"#bd3786\"],[0.5555555555555556,\"#d8576b\"],[0.6666666666666666,\"#ed7953\"],[0.7777777777777778,\"#fb9f3a\"],[0.8888888888888888,\"#fdca26\"],[1.0,\"#f0f921\"]],\"type\":\"heatmap\"}],\"heatmapgl\":[{\"colorbar\":{\"outlinewidth\":0,\"ticks\":\"\"},\"colorscale\":[[0.0,\"#0d0887\"],[0.1111111111111111,\"#46039f\"],[0.2222222222222222,\"#7201a8\"],[0.3333333333333333,\"#9c179e\"],[0.4444444444444444,\"#bd3786\"],[0.5555555555555556,\"#d8576b\"],[0.6666666666666666,\"#ed7953\"],[0.7777777777777778,\"#fb9f3a\"],[0.8888888888888888,\"#fdca26\"],[1.0,\"#f0f921\"]],\"type\":\"heatmapgl\"}],\"histogram\":[{\"marker\":{\"pattern\":{\"fillmode\":\"overlay\",\"size\":10,\"solidity\":0.2}},\"type\":\"histogram\"}],\"histogram2d\":[{\"colorbar\":{\"outlinewidth\":0,\"ticks\":\"\"},\"colorscale\":[[0.0,\"#0d0887\"],[0.1111111111111111,\"#46039f\"],[0.2222222222222222,\"#7201a8\"],[0.3333333333333333,\"#9c179e\"],[0.4444444444444444,\"#bd3786\"],[0.5555555555555556,\"#d8576b\"],[0.6666666666666666,\"#ed7953\"],[0.7777777777777778,\"#fb9f3a\"],[0.8888888888888888,\"#fdca26\"],[1.0,\"#f0f921\"]],\"type\":\"histogram2d\"}],\"histogram2dcontour\":[{\"colorbar\":{\"outlinewidth\":0,\"ticks\":\"\"},\"colorscale\":[[0.0,\"#0d0887\"],[0.1111111111111111,\"#46039f\"],[0.2222222222222222,\"#7201a8\"],[0.3333333333333333,\"#9c179e\"],[0.4444444444444444,\"#bd3786\"],[0.5555555555555556,\"#d8576b\"],[0.6666666666666666,\"#ed7953\"],[0.7777777777777778,\"#fb9f3a\"],[0.8888888888888888,\"#fdca26\"],[1.0,\"#f0f921\"]],\"type\":\"histogram2dcontour\"}],\"mesh3d\":[{\"colorbar\":{\"outlinewidth\":0,\"ticks\":\"\"},\"type\":\"mesh3d\"}],\"parcoords\":[{\"line\":{\"colorbar\":{\"outlinewidth\":0,\"ticks\":\"\"}},\"type\":\"parcoords\"}],\"pie\":[{\"automargin\":true,\"type\":\"pie\"}],\"scatter\":[{\"marker\":{\"colorbar\":{\"outlinewidth\":0,\"ticks\":\"\"}},\"type\":\"scatter\"}],\"scatter3d\":[{\"line\":{\"colorbar\":{\"outlinewidth\":0,\"ticks\":\"\"}},\"marker\":{\"colorbar\":{\"outlinewidth\":0,\"ticks\":\"\"}},\"type\":\"scatter3d\"}],\"scattercarpet\":[{\"marker\":{\"colorbar\":{\"outlinewidth\":0,\"ticks\":\"\"}},\"type\":\"scattercarpet\"}],\"scattergeo\":[{\"marker\":{\"colorbar\":{\"outlinewidth\":0,\"ticks\":\"\"}},\"type\":\"scattergeo\"}],\"scattergl\":[{\"marker\":{\"colorbar\":{\"outlinewidth\":0,\"ticks\":\"\"}},\"type\":\"scattergl\"}],\"scattermapbox\":[{\"marker\":{\"colorbar\":{\"outlinewidth\":0,\"ticks\":\"\"}},\"type\":\"scattermapbox\"}],\"scatterpolar\":[{\"marker\":{\"colorbar\":{\"outlinewidth\":0,\"ticks\":\"\"}},\"type\":\"scatterpolar\"}],\"scatterpolargl\":[{\"marker\":{\"colorbar\":{\"outlinewidth\":0,\"ticks\":\"\"}},\"type\":\"scatterpolargl\"}],\"scatterternary\":[{\"marker\":{\"colorbar\":{\"outlinewidth\":0,\"ticks\":\"\"}},\"type\":\"scatterternary\"}],\"surface\":[{\"colorbar\":{\"outlinewidth\":0,\"ticks\":\"\"},\"colorscale\":[[0.0,\"#0d0887\"],[0.1111111111111111,\"#46039f\"],[0.2222222222222222,\"#7201a8\"],[0.3333333333333333,\"#9c179e\"],[0.4444444444444444,\"#bd3786\"],[0.5555555555555556,\"#d8576b\"],[0.6666666666666666,\"#ed7953\"],[0.7777777777777778,\"#fb9f3a\"],[0.8888888888888888,\"#fdca26\"],[1.0,\"#f0f921\"]],\"type\":\"surface\"}],\"table\":[{\"cells\":{\"fill\":{\"color\":\"#EBF0F8\"},\"line\":{\"color\":\"white\"}},\"header\":{\"fill\":{\"color\":\"#C8D4E3\"},\"line\":{\"color\":\"white\"}},\"type\":\"table\"}]},\"layout\":{\"annotationdefaults\":{\"arrowcolor\":\"#2a3f5f\",\"arrowhead\":0,\"arrowwidth\":1},\"autotypenumbers\":\"strict\",\"coloraxis\":{\"colorbar\":{\"outlinewidth\":0,\"ticks\":\"\"}},\"colorscale\":{\"diverging\":[[0,\"#8e0152\"],[0.1,\"#c51b7d\"],[0.2,\"#de77ae\"],[0.3,\"#f1b6da\"],[0.4,\"#fde0ef\"],[0.5,\"#f7f7f7\"],[0.6,\"#e6f5d0\"],[0.7,\"#b8e186\"],[0.8,\"#7fbc41\"],[0.9,\"#4d9221\"],[1,\"#276419\"]],\"sequential\":[[0.0,\"#0d0887\"],[0.1111111111111111,\"#46039f\"],[0.2222222222222222,\"#7201a8\"],[0.3333333333333333,\"#9c179e\"],[0.4444444444444444,\"#bd3786\"],[0.5555555555555556,\"#d8576b\"],[0.6666666666666666,\"#ed7953\"],[0.7777777777777778,\"#fb9f3a\"],[0.8888888888888888,\"#fdca26\"],[1.0,\"#f0f921\"]],\"sequentialminus\":[[0.0,\"#0d0887\"],[0.1111111111111111,\"#46039f\"],[0.2222222222222222,\"#7201a8\"],[0.3333333333333333,\"#9c179e\"],[0.4444444444444444,\"#bd3786\"],[0.5555555555555556,\"#d8576b\"],[0.6666666666666666,\"#ed7953\"],[0.7777777777777778,\"#fb9f3a\"],[0.8888888888888888,\"#fdca26\"],[1.0,\"#f0f921\"]]},\"colorway\":[\"#636efa\",\"#EF553B\",\"#00cc96\",\"#ab63fa\",\"#FFA15A\",\"#19d3f3\",\"#FF6692\",\"#B6E880\",\"#FF97FF\",\"#FECB52\"],\"font\":{\"color\":\"#2a3f5f\"},\"geo\":{\"bgcolor\":\"white\",\"lakecolor\":\"white\",\"landcolor\":\"#E5ECF6\",\"showlakes\":true,\"showland\":true,\"subunitcolor\":\"white\"},\"hoverlabel\":{\"align\":\"left\"},\"hovermode\":\"closest\",\"mapbox\":{\"style\":\"light\"},\"paper_bgcolor\":\"white\",\"plot_bgcolor\":\"#E5ECF6\",\"polar\":{\"angularaxis\":{\"gridcolor\":\"white\",\"linecolor\":\"white\",\"ticks\":\"\"},\"bgcolor\":\"#E5ECF6\",\"radialaxis\":{\"gridcolor\":\"white\",\"linecolor\":\"white\",\"ticks\":\"\"}},\"scene\":{\"xaxis\":{\"backgroundcolor\":\"#E5ECF6\",\"gridcolor\":\"white\",\"gridwidth\":2,\"linecolor\":\"white\",\"showbackground\":true,\"ticks\":\"\",\"zerolinecolor\":\"white\"},\"yaxis\":{\"backgroundcolor\":\"#E5ECF6\",\"gridcolor\":\"white\",\"gridwidth\":2,\"linecolor\":\"white\",\"showbackground\":true,\"ticks\":\"\",\"zerolinecolor\":\"white\"},\"zaxis\":{\"backgroundcolor\":\"#E5ECF6\",\"gridcolor\":\"white\",\"gridwidth\":2,\"linecolor\":\"white\",\"showbackground\":true,\"ticks\":\"\",\"zerolinecolor\":\"white\"}},\"shapedefaults\":{\"line\":{\"color\":\"#2a3f5f\"}},\"ternary\":{\"aaxis\":{\"gridcolor\":\"white\",\"linecolor\":\"white\",\"ticks\":\"\"},\"baxis\":{\"gridcolor\":\"white\",\"linecolor\":\"white\",\"ticks\":\"\"},\"bgcolor\":\"#E5ECF6\",\"caxis\":{\"gridcolor\":\"white\",\"linecolor\":\"white\",\"ticks\":\"\"}},\"title\":{\"x\":0.05},\"xaxis\":{\"automargin\":true,\"gridcolor\":\"white\",\"linecolor\":\"white\",\"ticks\":\"\",\"title\":{\"standoff\":15},\"zerolinecolor\":\"white\",\"zerolinewidth\":2},\"yaxis\":{\"automargin\":true,\"gridcolor\":\"white\",\"linecolor\":\"white\",\"ticks\":\"\",\"title\":{\"standoff\":15},\"zerolinecolor\":\"white\",\"zerolinewidth\":2}}},\"xaxis\":{\"anchor\":\"y\",\"domain\":[0.0,1.0],\"title\":{\"text\":\"error\"}},\"yaxis\":{\"anchor\":\"x\",\"domain\":[0.0,1.0],\"title\":{\"text\":\"count\"}},\"legend\":{\"tracegroupgap\":0},\"margin\":{\"t\":60},\"barmode\":\"relative\",\"width\":800},                        {\"responsive\": true}                    ).then(function(){\n",
              "                            \n",
              "var gd = document.getElementById('340e09b4-5535-4799-9e71-6bc40598cb02');\n",
              "var x = new MutationObserver(function (mutations, observer) {{\n",
              "        var display = window.getComputedStyle(gd).display;\n",
              "        if (!display || display === 'none') {{\n",
              "            console.log([gd, 'removed!']);\n",
              "            Plotly.purge(gd);\n",
              "            observer.disconnect();\n",
              "        }}\n",
              "}});\n",
              "\n",
              "// Listen for the removal of the full notebook cells\n",
              "var notebookContainer = gd.closest('#notebook-container');\n",
              "if (notebookContainer) {{\n",
              "    x.observe(notebookContainer, {childList: true});\n",
              "}}\n",
              "\n",
              "// Listen for the clearing of the current output cell\n",
              "var outputEl = gd.closest('.output');\n",
              "if (outputEl) {{\n",
              "    x.observe(outputEl, {childList: true});\n",
              "}}\n",
              "\n",
              "                        })                };                            </script>        </div>\n",
              "</body>\n",
              "</html>"
            ]
          },
          "metadata": {}
        }
      ]
    },
    {
      "cell_type": "markdown",
      "source": [
        "\n",
        "### Mean Absolute Error - Średni błąd bezwzględny\n",
        "### $$MAE = \\frac{1}{n}\\sum_{i=1}^{n}|y_{true} - y_{pred}|$$"
      ],
      "metadata": {
        "id": "4qJb9mkPYwxg"
      }
    },
    {
      "cell_type": "code",
      "source": [
        "def mean_absolute_error(y_true,y_pred):\n",
        "  return abs(y_true - y_pred).sum() / len(y_true)\n",
        "\n",
        "mean_absolute_error(y_true,y_pred)"
      ],
      "metadata": {
        "colab": {
          "base_uri": "https://localhost:8080/"
        },
        "id": "Yt49gDJDYII1",
        "outputId": "46bf19f0-8263-4def-9cf4-ef5d471fcdc3"
      },
      "execution_count": 17,
      "outputs": [
        {
          "output_type": "execute_result",
          "data": {
            "text/plain": [
              "8.262577442533969"
            ]
          },
          "metadata": {},
          "execution_count": 17
        }
      ]
    },
    {
      "cell_type": "code",
      "source": [
        "from sklearn.metrics import mean_absolute_error\n",
        "mean_absolute_error(y_true,y_pred)"
      ],
      "metadata": {
        "colab": {
          "base_uri": "https://localhost:8080/"
        },
        "id": "hWS4rDChZhgu",
        "outputId": "f39a0871-3500-4346-a0ab-00a41fb634f8"
      },
      "execution_count": 18,
      "outputs": [
        {
          "output_type": "execute_result",
          "data": {
            "text/plain": [
              "8.262577442533969"
            ]
          },
          "metadata": {},
          "execution_count": 18
        }
      ]
    },
    {
      "cell_type": "markdown",
      "source": [
        "### Mean Squared Error - MSE - Błąd średniokwadratowy\n",
        "### $$MSE = \\frac{1}{n}\\sum_{i=1}^{n}(y_{true} - y_{pred})^{2}$$"
      ],
      "metadata": {
        "id": "9H0-xWARZtn-"
      }
    },
    {
      "cell_type": "code",
      "source": [
        "def mean_squared_error(y_true, y_pred):\n",
        "  return ((y_true - y_pred)**2).sum() / len(y_true)\n",
        "\n",
        "mean_squared_error(y_true,y_pred)"
      ],
      "metadata": {
        "colab": {
          "base_uri": "https://localhost:8080/"
        },
        "id": "NFlsda4AZp1n",
        "outputId": "6b7a210a-e404-4764-ca3f-cf1defac0cbc"
      },
      "execution_count": 19,
      "outputs": [
        {
          "output_type": "execute_result",
          "data": {
            "text/plain": [
              "106.2766583075978"
            ]
          },
          "metadata": {},
          "execution_count": 19
        }
      ]
    },
    {
      "cell_type": "code",
      "source": [
        "from sklearn.metrics import mean_squared_error\n",
        "mean_squared_error(y_true, y_pred)"
      ],
      "metadata": {
        "colab": {
          "base_uri": "https://localhost:8080/"
        },
        "id": "gyw-A3QdaIdQ",
        "outputId": "e56520fb-3434-4f4b-af7d-141ad0304a20"
      },
      "execution_count": 20,
      "outputs": [
        {
          "output_type": "execute_result",
          "data": {
            "text/plain": [
              "106.2766583075978"
            ]
          },
          "metadata": {},
          "execution_count": 20
        }
      ]
    },
    {
      "cell_type": "markdown",
      "source": [
        "### Root Mean Squared Error - RMSE - Pierwiastek błędu średniokwadratowego\n",
        "### $$RMSE = \\sqrt{MSE}$$"
      ],
      "metadata": {
        "id": "TrMypxNlbCvr"
      }
    },
    {
      "cell_type": "code",
      "source": [
        "def root_mean_squared_error(y_true,y_pred):\n",
        "  return np.sqrt(((y_true - y_pred)**2).sum()/len(y_true))\n",
        "\n",
        "root_mean_squared_error(y_true, y_pred)"
      ],
      "metadata": {
        "colab": {
          "base_uri": "https://localhost:8080/"
        },
        "id": "hxODwrSPabvE",
        "outputId": "2718b225-5cad-4d00-a24a-a230732c97b1"
      },
      "execution_count": 21,
      "outputs": [
        {
          "output_type": "execute_result",
          "data": {
            "text/plain": [
              "10.30905710080208"
            ]
          },
          "metadata": {},
          "execution_count": 21
        }
      ]
    },
    {
      "cell_type": "code",
      "source": [
        "np.sqrt(mean_squared_error(y_true,y_pred))"
      ],
      "metadata": {
        "colab": {
          "base_uri": "https://localhost:8080/"
        },
        "id": "MucrS8RFbjVK",
        "outputId": "b4fd9bd6-e4e2-4935-8688-502432695714"
      },
      "execution_count": 22,
      "outputs": [
        {
          "output_type": "execute_result",
          "data": {
            "text/plain": [
              "10.30905710080208"
            ]
          },
          "metadata": {},
          "execution_count": 22
        }
      ]
    },
    {
      "cell_type": "markdown",
      "source": [
        "### Max Error - Błąd maksymalny\n",
        "### $$ME = max(|y\\_true - y\\_pred|)$$"
      ],
      "metadata": {
        "id": "u4S0Y0AXbuVH"
      }
    },
    {
      "cell_type": "code",
      "source": [
        "def max_error(y_true,y_pred):\n",
        "  return abs(y_true - y_pred).max()\n",
        "\n",
        "max_error(y_true,y_pred)"
      ],
      "metadata": {
        "colab": {
          "base_uri": "https://localhost:8080/"
        },
        "id": "FUDXC0LtbqRf",
        "outputId": "cddd2108-95e4-43ad-dc0d-5da046b17813"
      },
      "execution_count": 24,
      "outputs": [
        {
          "output_type": "execute_result",
          "data": {
            "text/plain": [
              "33.74719350232162"
            ]
          },
          "metadata": {},
          "execution_count": 24
        }
      ]
    },
    {
      "cell_type": "code",
      "source": [
        "from sklearn.metrics import max_error\n",
        "max_error(y_true,y_pred)"
      ],
      "metadata": {
        "colab": {
          "base_uri": "https://localhost:8080/"
        },
        "id": "RK9xAkAeb9Ao",
        "outputId": "fa4d4918-6fd0-420b-8c77-9d89470a41ec"
      },
      "execution_count": 25,
      "outputs": [
        {
          "output_type": "execute_result",
          "data": {
            "text/plain": [
              "33.74719350232162"
            ]
          },
          "metadata": {},
          "execution_count": 25
        }
      ]
    },
    {
      "cell_type": "markdown",
      "source": [
        "### R2 score - współczynnik determinacji\n",
        "### $$R2\\_score = 1 - \\frac{\\sum_{i=1}^{N}(y_{true} - y_{pred})^{2}}{\\sum_{i=1}^{N}(y_{true} - \\overline{y_{true}})^{2}}$$"
      ],
      "metadata": {
        "id": "lmz_X_IbcIyM"
      }
    },
    {
      "cell_type": "code",
      "source": [
        "from sklearn.metrics import r2_score\n",
        "r2_score(y_true,y_pred)"
      ],
      "metadata": {
        "colab": {
          "base_uri": "https://localhost:8080/"
        },
        "id": "pubTmByNcGhZ",
        "outputId": "99c65286-6110-45cd-80cf-327281b38ba5"
      },
      "execution_count": 26,
      "outputs": [
        {
          "output_type": "execute_result",
          "data": {
            "text/plain": [
              "0.7363886346836694"
            ]
          },
          "metadata": {},
          "execution_count": 26
        }
      ]
    },
    {
      "cell_type": "code",
      "source": [
        "\n",
        "def r2_score(y_true, y_pred):\n",
        "    numerator = ((y_true - y_pred) ** 2).sum()\n",
        "    denominator = ((y_true - y_true.mean()) ** 2).sum()\n",
        "    try:\n",
        "        r2 = 1 - numerator / denominator\n",
        "    except ZeroDivisionError:\n",
        "        print('Dzielenie przez zero')\n",
        "    return r2\n",
        "\n",
        "\n",
        "r2_score(y_true,y_pred)"
      ],
      "metadata": {
        "colab": {
          "base_uri": "https://localhost:8080/"
        },
        "id": "_mNhrdXHcTRe",
        "outputId": "9f228014-6410-40f3-8d58-aa3079322638"
      },
      "execution_count": 29,
      "outputs": [
        {
          "output_type": "execute_result",
          "data": {
            "text/plain": [
              "0.7363886346836694"
            ]
          },
          "metadata": {},
          "execution_count": 29
        }
      ]
    }
  ]
}